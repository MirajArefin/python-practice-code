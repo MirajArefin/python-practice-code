{
 "cells": [
  {
   "cell_type": "code",
   "execution_count": 38,
   "metadata": {},
   "outputs": [],
   "source": [
    "import random"
   ]
  },
  {
   "cell_type": "code",
   "execution_count": 46,
   "metadata": {},
   "outputs": [
    {
     "name": "stdout",
     "output_type": "stream",
     "text": [
      "[724, 565, 682, 958, 664, 520, 790, 259, 446, 841, 903, 533, 270, 712, 801, 71, 882, 38, 721, 87, 539, 451, 899, 450, 583, 285, 113, 768, 707, 251, 775, 527, 412, 122, 55, 973, 429, 916, 659, 221, 287, 367, 749, 672, 936, 576, 563, 618, 458, 575, 84, 164, 913, 738, 225, 788, 998, 783, 317, 813, 41, 171, 535, 249, 551, 282, 97, 750, 548, 65, 266, 276, 204, 490, 389, 519, 90, 974, 875, 944, 564, 887, 197, 44, 337, 720, 339, 107, 227, 906, 253, 37, 780, 316, 353, 272, 489, 494, 603, 471]\n"
     ]
    }
   ],
   "source": [
    "#generrate a random numbers list\n",
    "li = random.sample(range(1000), 100)       \n",
    "#shaffle the list\n",
    "random.shuffle(li)    \n",
    "print(li)"
   ]
  },
  {
   "cell_type": "code",
   "execution_count": 47,
   "metadata": {},
   "outputs": [],
   "source": [
    "for j in range(0, len(li)):\n",
    "    for i in range(0, len(li)-1):\n",
    "        if(li[i] > li[i+1]):\n",
    "            temp = li[i]\n",
    "            li[i] = li[i+1]\n",
    "            li[i+1] = temp"
   ]
  },
  {
   "cell_type": "code",
   "execution_count": 48,
   "metadata": {},
   "outputs": [
    {
     "name": "stdout",
     "output_type": "stream",
     "text": [
      "[37, 38, 41, 44, 55, 65, 71, 84, 87, 90, 97, 107, 113, 122, 164, 171, 197, 204, 221, 225, 227, 249, 251, 253, 259, 266, 270, 272, 276, 282, 285, 287, 316, 317, 337, 339, 353, 367, 389, 412, 429, 446, 450, 451, 458, 471, 489, 490, 494, 519, 520, 527, 533, 535, 539, 548, 551, 563, 564, 565, 575, 576, 583, 603, 618, 659, 664, 672, 682, 707, 712, 720, 721, 724, 738, 749, 750, 768, 775, 780, 783, 788, 790, 801, 813, 841, 875, 882, 887, 899, 903, 906, 913, 916, 936, 944, 958, 973, 974, 998]\n"
     ]
    }
   ],
   "source": [
    "#sorted list print\n",
    "print(li)"
   ]
  },
  {
   "cell_type": "code",
   "execution_count": null,
   "metadata": {},
   "outputs": [],
   "source": []
  },
  {
   "cell_type": "code",
   "execution_count": null,
   "metadata": {},
   "outputs": [],
   "source": []
  }
 ],
 "metadata": {
  "kernelspec": {
   "display_name": "Python 3",
   "language": "python",
   "name": "python3"
  },
  "language_info": {
   "codemirror_mode": {
    "name": "ipython",
    "version": 3
   },
   "file_extension": ".py",
   "mimetype": "text/x-python",
   "name": "python",
   "nbconvert_exporter": "python",
   "pygments_lexer": "ipython3",
   "version": "3.7.3"
  }
 },
 "nbformat": 4,
 "nbformat_minor": 2
}
